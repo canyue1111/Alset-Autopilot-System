{
 "metadata": {
  "language_info": {
   "codemirror_mode": {
    "name": "ipython",
    "version": 3
   },
   "file_extension": ".py",
   "mimetype": "text/x-python",
   "name": "python",
   "nbconvert_exporter": "python",
   "pygments_lexer": "ipython3",
   "version": "3.7.9-final"
  },
  "orig_nbformat": 2,
  "kernelspec": {
   "name": "python3",
   "display_name": "Python 3",
   "language": "python"
  }
 },
 "nbformat": 4,
 "nbformat_minor": 2,
 "cells": [
  {
   "cell_type": "code",
   "execution_count": 1,
   "metadata": {},
   "outputs": [],
   "source": [
    "import carla\n",
    "import cv2\n",
    "import numpy as np"
   ]
  },
  {
   "cell_type": "code",
   "execution_count": 2,
   "metadata": {},
   "outputs": [],
   "source": [
    "client = carla.Client('localhost', 2000)\n",
    "world = client.get_world()"
   ]
  },
  {
   "cell_type": "code",
   "execution_count": 7,
   "metadata": {},
   "outputs": [
    {
     "output_type": "execute_result",
     "data": {
      "text/plain": [
       "<carla.libcarla.BlueprintLibrary at 0x262fecf85d0>"
      ]
     },
     "metadata": {},
     "execution_count": 7
    }
   ],
   "source": [
    "blueprints = world.get_blueprint_library()\n",
    "blueprints"
   ]
  },
  {
   "cell_type": "code",
   "execution_count": 8,
   "metadata": {
    "tags": []
   },
   "outputs": [
    {
     "output_type": "stream",
     "name": "stdout",
     "text": [
      "vehicle.chevrolet.impala\nvehicle.mercedesccc.mercedesccc\nvehicle.audi.a2\nvehicle.nissan.micra\nvehicle.carlamotors.carlacola\nvehicle.audi.tt\nvehicle.bmw.grandtourer\nvehicle.harley-davidson.low_rider\nvehicle.bmw.isetta\nvehicle.chargercop2020.chargercop2020\nvehicle.citroen.c3\nvehicle.dodge_charger.police\nvehicle.jeep.wrangler_rubicon\nvehicle.mercedes-benz.coupe\nvehicle.mini.cooperst\nvehicle.nissan.patrol\nvehicle.seat.leon\nvehicle.toyota.prius\nvehicle.yamaha.yzf\nvehicle.kawasaki.ninja\nvehicle.bh.crossbike\nvehicle.tesla.model3\nvehicle.gazelle.omafiets\nvehicle.tesla.cybertruck\nvehicle.diamondback.century\nvehicle.audi.etron\nvehicle.volkswagen.t2\nvehicle.lincoln.mkz2017\nvehicle.mustang.mustang\nvehicle.lincoln2020.mkz2020\nvehicle.charger2020.charger2020\n"
     ]
    }
   ],
   "source": [
    "for blueprint in blueprints.filter('vehicle'):\n",
    "   print(blueprint.id)\n",
    "#    for attr in blueprint:\n",
    "#        print('  - {}'.format(attr))\n"
   ]
  },
  {
   "cell_type": "code",
   "execution_count": null,
   "metadata": {},
   "outputs": [],
   "source": []
  }
 ]
}